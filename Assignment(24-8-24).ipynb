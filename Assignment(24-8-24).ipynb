{
 "cells": [
  {
   "cell_type": "code",
   "execution_count": 13,
   "id": "eb704924-bc81-4d7f-b633-c694913ec98b",
   "metadata": {},
   "outputs": [
    {
     "name": "stdout",
     "output_type": "stream",
     "text": [
      "Python:Exercises::PHP:exercises:\n"
     ]
    }
   ],
   "source": [
    "#Question 1\n",
    "import re\n",
    "text = 'Python Exercises, PHP exercises.'\n",
    "print(re.sub(\"[, .]\",\":\",text))"
   ]
  },
  {
   "cell_type": "code",
   "execution_count": 18,
   "id": "f6becfa5-1bfc-4e88-8f7e-a291ab85532a",
   "metadata": {},
   "outputs": [
    {
     "name": "stdout",
     "output_type": "stream",
     "text": [
      "         SUMMARY\n",
      "0    hello world\n",
      "1     XXXXX test\n",
      "2  four five six\n"
     ]
    },
    {
     "name": "stderr",
     "output_type": "stream",
     "text": [
      "<>:4: SyntaxWarning: invalid escape sequence '\\s'\n",
      "<>:4: SyntaxWarning: invalid escape sequence '\\s'\n",
      "C:\\Users\\shashwath\\AppData\\Local\\Temp\\ipykernel_20316\\3179361952.py:4: SyntaxWarning: invalid escape sequence '\\s'\n",
      "  df['SUMMARY']=df['SUMMARY'].str.replace('[^a-zA-Z\\s]','',regex=True)\n"
     ]
    }
   ],
   "source": [
    "#Question 2\n",
    "import pandas as pd\n",
    "dictionary={'SUMMARY' : ['hello, world!', 'XXXXX test', '123four, five:; six...']}\n",
    "df=pd.DataFrame(dictionary)\n",
    "df['SUMMARY']=df['SUMMARY'].str.replace('[^a-zA-Z\\s]','',regex=True)\n",
    "print(df)"
   ]
  },
  {
   "cell_type": "code",
   "execution_count": 22,
   "id": "663c231c-7347-4367-a2c6-bc4ec72cd8ee",
   "metadata": {},
   "outputs": [
    {
     "name": "stdout",
     "output_type": "stream",
     "text": [
      "['name', 'This']\n"
     ]
    }
   ],
   "source": [
    "#Question 3\n",
    "import re\n",
    "def FourChar(string):\n",
    "  pattern = re.compile(r'\\b\\w{3,5}\\b')\n",
    "  matches = pattern.findall(string)\n",
    "  return matches\n",
    "#End of Function, Example is given below\n",
    "string = \"My name is Shashwath, This is my example\"\n",
    "result = FourChar(string)\n",
    "print(result)"
   ]
  },
  {
   "cell_type": "code",
   "execution_count": 25,
   "id": "b017eee4-d7e8-48ea-86a3-6c50a84ca293",
   "metadata": {},
   "outputs": [
    {
     "name": "stdout",
     "output_type": "stream",
     "text": [
      "['This', 'iss', 'myy', 'exmpl']\n"
     ]
    }
   ],
   "source": [
    "#Question 4\n",
    "import re\n",
    "def FourChar(string):\n",
    "  pattern = re.compile(r'\\b\\w{3,6}\\b')\n",
    "  matches = pattern.findall(string)\n",
    "  return matches\n",
    "#End of Function, Example is given below\n",
    "string = \"I am Shashwath, This iss myy exmpl\"\n",
    "result = FourChar(string)\n",
    "print(result)"
   ]
  },
  {
   "cell_type": "code",
   "execution_count": 2,
   "id": "fc78bbe3-0692-482e-a061-d79435baf383",
   "metadata": {},
   "outputs": [
    {
     "name": "stdout",
     "output_type": "stream",
     "text": [
      "['example .com']\n"
     ]
    }
   ],
   "source": [
    "#Question 5\n",
    "import re\n",
    "def no_brac(strings):\n",
    "    pattern = re.compile(r\"\\(|\\)\")\n",
    "    modified_strings = []\n",
    "    for string in strings:\n",
    "        modified_string = re.sub(pattern, \"\", string)\n",
    "        modified_strings.append(modified_string)\n",
    "        return modified_strings\n",
    "#End of Function\n",
    "strings=([\"example (.com)\", \"hr@fliprobo (.com)\", \"github (.com)\", \"Hello (Data Science World)\", \"Data (Scientist)\"])\n",
    "solution=no_brac(strings)\n",
    "print(solution)"
   ]
  },
  {
   "cell_type": "code",
   "execution_count": 5,
   "id": "657bf954-690c-46d5-be08-ae10a180eea4",
   "metadata": {},
   "outputs": [
    {
     "name": "stdout",
     "output_type": "stream",
     "text": [
      "[\"example\", \"hr@fliprobo\", \"github\", \"Hello\", \"Data\"]\n",
      "\n"
     ]
    }
   ],
   "source": [
    "#Question 6\n",
    "import re\n",
    "with open('question6.txt','r') as file:\n",
    "    text=file.read()\n",
    "    new_text=re.sub(r\"\\s*\\([^)]*\\)\",\"\",text)\n",
    "    print(new_text)"
   ]
  },
  {
   "cell_type": "code",
   "execution_count": 7,
   "id": "327afc53-8b2a-4669-93b7-d95edad058c9",
   "metadata": {},
   "outputs": [
    {
     "name": "stdout",
     "output_type": "stream",
     "text": [
      "['Importance', 'Of', 'Regular', 'Expressions', 'In', 'Python']\n"
     ]
    }
   ],
   "source": [
    "#Question 7\n",
    "import re\n",
    "text=\"ImportanceOfRegularExpressionsInPython\"\n",
    "result=re.findall('[A-Z][^A-Z]*', text)\n",
    "print(result)"
   ]
  },
  {
   "cell_type": "code",
   "execution_count": 10,
   "id": "7c8c4313-a2ba-482a-bcf7-eb5121a120e1",
   "metadata": {},
   "outputs": [
    {
     "name": "stdout",
     "output_type": "stream",
     "text": [
      "RegularExpression1 IsAn2 ImportantTopic3 InPython\n"
     ]
    }
   ],
   "source": [
    "#Question 8\n",
    "import re\n",
    "def insert_spaces(text):\n",
    "  pattern = r'(\\d+)([A-Za-z]+)'\n",
    "  result = re.sub(pattern, r'\\1 \\2', text)\n",
    "  return result\n",
    "#End of Function, it is called below\n",
    "sample = \"RegularExpression1IsAn2ImportantTopic3InPython\"\n",
    "solution = insert_spaces(sample)\n",
    "print(solution)"
   ]
  },
  {
   "cell_type": "code",
   "execution_count": 12,
   "id": "ccf4115e-4aa3-45d2-ae3c-a99b2d50f851",
   "metadata": {},
   "outputs": [
    {
     "name": "stdout",
     "output_type": "stream",
     "text": [
      "Regular Expression1 Is An2 Important Topic3 In Python\n"
     ]
    }
   ],
   "source": [
    "#Question 9\n",
    "import re\n",
    "def insert_spaces(text):\n",
    "  pattern = r'([A-Z][a-z0-9]+|\\d+)'\n",
    "  result = re.sub(pattern, r' \\1', text)\n",
    "  result = result.strip()\n",
    "  return result\n",
    "#End of Function, it is called below\n",
    "question=\"RegularExpression1IsAn2ImportantTopic3InPython\"\n",
    "answer=insert_spaces(question)\n",
    "print(answer)\n"
   ]
  },
  {
   "cell_type": "code",
   "execution_count": 15,
   "id": "f0fb4254-833e-4422-8e5e-fa95d4685465",
   "metadata": {},
   "outputs": [
    {
     "data": {
      "text/html": [
       "<div>\n",
       "<style scoped>\n",
       "    .dataframe tbody tr th:only-of-type {\n",
       "        vertical-align: middle;\n",
       "    }\n",
       "\n",
       "    .dataframe tbody tr th {\n",
       "        vertical-align: top;\n",
       "    }\n",
       "\n",
       "    .dataframe thead th {\n",
       "        text-align: right;\n",
       "    }\n",
       "</style>\n",
       "<table border=\"1\" class=\"dataframe\">\n",
       "  <thead>\n",
       "    <tr style=\"text-align: right;\">\n",
       "      <th></th>\n",
       "      <th>Country</th>\n",
       "      <th>Region</th>\n",
       "      <th>Happiness Rank</th>\n",
       "      <th>Happiness Score</th>\n",
       "      <th>Standard Error</th>\n",
       "      <th>Economy (GDP per Capita)</th>\n",
       "      <th>Family</th>\n",
       "      <th>Health (Life Expectancy)</th>\n",
       "      <th>Freedom</th>\n",
       "      <th>Trust (Government Corruption)</th>\n",
       "      <th>Generosity</th>\n",
       "      <th>Dystopia Residual</th>\n",
       "      <th>first_five_letters</th>\n",
       "    </tr>\n",
       "  </thead>\n",
       "  <tbody>\n",
       "    <tr>\n",
       "      <th>0</th>\n",
       "      <td>Switzerland</td>\n",
       "      <td>Western Europe</td>\n",
       "      <td>1</td>\n",
       "      <td>7.587</td>\n",
       "      <td>0.03411</td>\n",
       "      <td>1.39651</td>\n",
       "      <td>1.34951</td>\n",
       "      <td>0.94143</td>\n",
       "      <td>0.66557</td>\n",
       "      <td>0.41978</td>\n",
       "      <td>0.29678</td>\n",
       "      <td>2.51738</td>\n",
       "      <td>Switze</td>\n",
       "    </tr>\n",
       "    <tr>\n",
       "      <th>1</th>\n",
       "      <td>Iceland</td>\n",
       "      <td>Western Europe</td>\n",
       "      <td>2</td>\n",
       "      <td>7.561</td>\n",
       "      <td>0.04884</td>\n",
       "      <td>1.30232</td>\n",
       "      <td>1.40223</td>\n",
       "      <td>0.94784</td>\n",
       "      <td>0.62877</td>\n",
       "      <td>0.14145</td>\n",
       "      <td>0.43630</td>\n",
       "      <td>2.70201</td>\n",
       "      <td>Icelan</td>\n",
       "    </tr>\n",
       "    <tr>\n",
       "      <th>2</th>\n",
       "      <td>Denmark</td>\n",
       "      <td>Western Europe</td>\n",
       "      <td>3</td>\n",
       "      <td>7.527</td>\n",
       "      <td>0.03328</td>\n",
       "      <td>1.32548</td>\n",
       "      <td>1.36058</td>\n",
       "      <td>0.87464</td>\n",
       "      <td>0.64938</td>\n",
       "      <td>0.48357</td>\n",
       "      <td>0.34139</td>\n",
       "      <td>2.49204</td>\n",
       "      <td>Denmar</td>\n",
       "    </tr>\n",
       "    <tr>\n",
       "      <th>3</th>\n",
       "      <td>Norway</td>\n",
       "      <td>Western Europe</td>\n",
       "      <td>4</td>\n",
       "      <td>7.522</td>\n",
       "      <td>0.03880</td>\n",
       "      <td>1.45900</td>\n",
       "      <td>1.33095</td>\n",
       "      <td>0.88521</td>\n",
       "      <td>0.66973</td>\n",
       "      <td>0.36503</td>\n",
       "      <td>0.34699</td>\n",
       "      <td>2.46531</td>\n",
       "      <td>Norway</td>\n",
       "    </tr>\n",
       "    <tr>\n",
       "      <th>4</th>\n",
       "      <td>Canada</td>\n",
       "      <td>North America</td>\n",
       "      <td>5</td>\n",
       "      <td>7.427</td>\n",
       "      <td>0.03553</td>\n",
       "      <td>1.32629</td>\n",
       "      <td>1.32261</td>\n",
       "      <td>0.90563</td>\n",
       "      <td>0.63297</td>\n",
       "      <td>0.32957</td>\n",
       "      <td>0.45811</td>\n",
       "      <td>2.45176</td>\n",
       "      <td>Canada</td>\n",
       "    </tr>\n",
       "  </tbody>\n",
       "</table>\n",
       "</div>"
      ],
      "text/plain": [
       "       Country          Region  Happiness Rank  Happiness Score  \\\n",
       "0  Switzerland  Western Europe               1            7.587   \n",
       "1      Iceland  Western Europe               2            7.561   \n",
       "2      Denmark  Western Europe               3            7.527   \n",
       "3       Norway  Western Europe               4            7.522   \n",
       "4       Canada   North America               5            7.427   \n",
       "\n",
       "   Standard Error  Economy (GDP per Capita)   Family  \\\n",
       "0         0.03411                   1.39651  1.34951   \n",
       "1         0.04884                   1.30232  1.40223   \n",
       "2         0.03328                   1.32548  1.36058   \n",
       "3         0.03880                   1.45900  1.33095   \n",
       "4         0.03553                   1.32629  1.32261   \n",
       "\n",
       "   Health (Life Expectancy)  Freedom  Trust (Government Corruption)  \\\n",
       "0                   0.94143  0.66557                        0.41978   \n",
       "1                   0.94784  0.62877                        0.14145   \n",
       "2                   0.87464  0.64938                        0.48357   \n",
       "3                   0.88521  0.66973                        0.36503   \n",
       "4                   0.90563  0.63297                        0.32957   \n",
       "\n",
       "   Generosity  Dystopia Residual first_five_letters  \n",
       "0     0.29678            2.51738             Switze  \n",
       "1     0.43630            2.70201             Icelan  \n",
       "2     0.34139            2.49204             Denmar  \n",
       "3     0.34699            2.46531             Norway  \n",
       "4     0.45811            2.45176             Canada  "
      ]
     },
     "execution_count": 15,
     "metadata": {},
     "output_type": "execute_result"
    }
   ],
   "source": [
    "#Question 10\n",
    "import pandas as pd\n",
    "link=\"https://raw.githubusercontent.com/dsrscientist/DSData/master/happiness_score_dataset.csv\"\n",
    "df=pd.read_csv(link)\n",
    "df['first_five_letters'] = df['Country'].apply(lambda x: x[:6])\n",
    "df.head()"
   ]
  },
  {
   "cell_type": "code",
   "execution_count": 31,
   "id": "75e71b77-d644-4ccc-8262-e39458d43e1f",
   "metadata": {},
   "outputs": [
    {
     "name": "stdout",
     "output_type": "stream",
     "text": [
      "String matches the pattern\n",
      "String does not match the pattern\n"
     ]
    }
   ],
   "source": [
    "#Question 11\n",
    "import re\n",
    "def func(string):\n",
    "  pattern=r'^[a-zA-Z0-9_]+$'\n",
    "  if re.match(pattern, string):\n",
    "      print(\"String matches the pattern\")\n",
    "  else:\n",
    "      print(\"String does not match the pattern\")\n",
    "#End of function, example provided below\n",
    "func(\"Shashwa_th5\")  \n",
    "func(\"SHa+sh\")"
   ]
  },
  {
   "cell_type": "code",
   "execution_count": 39,
   "id": "b489799e-7416-41e5-b12d-9c4b4f095af2",
   "metadata": {},
   "outputs": [
    {
     "name": "stdout",
     "output_type": "stream",
     "text": [
      "The string starts with the specified number.\n"
     ]
    }
   ],
   "source": [
    "#Question 12\n",
    "def function(string, number):\n",
    "  if string.startswith(str(number)):\n",
    "      return True\n",
    "  else:\n",
    "      return False\n",
    "    \n",
    "string = \"5yj5a\" #Here 5yj5a is just an example \n",
    "number = 5\n",
    "if function(string, number):\n",
    "  print(\"The string starts with the specified number.\")\n",
    "else:\n",
    "  print(\"The string does not start with the specified number.\")"
   ]
  },
  {
   "cell_type": "code",
   "execution_count": 41,
   "id": "5fcc1c21-874e-4af8-8f5d-e675ddb7c88d",
   "metadata": {},
   "outputs": [
    {
     "name": "stdout",
     "output_type": "stream",
     "text": [
      "191.578.2.1\n"
     ]
    }
   ],
   "source": [
    "#Question 13\n",
    "def function(ip_address):\n",
    "  octets=ip_address.split('.')\n",
    "  octets1 = [str(int(octet)) for octet in octets]\n",
    "  Answer='.'.join(octets1)\n",
    "  return Answer\n",
    "#End of function, example provided below\n",
    "ip_address = '191.578.002.001'\n",
    "answer= function(ip_address)\n",
    "print(answer)  "
   ]
  },
  {
   "cell_type": "code",
   "execution_count": 50,
   "id": "9dd70e2b-0e75-4ac8-9a04-6974e0f94dc6",
   "metadata": {},
   "outputs": [
    {
     "name": "stdout",
     "output_type": "stream",
     "text": [
      "['August']\n"
     ]
    }
   ],
   "source": [
    "#Question 14\n",
    "import re\n",
    "text = \"On August 15th 1947 that India was declared independent from British colonialism, and the reins of control were handed over to the leaders of the Country.\"\n",
    "pattern = r\"\\b([A-Z][a-z]+) \\d{1,2}(?:st|nd|rd|th)? \\d{4}\\b\"\n",
    "matches = re.findall(pattern, text)\n",
    "print(matches)"
   ]
  },
  {
   "cell_type": "code",
   "execution_count": 57,
   "id": "bec7e6aa-708f-4165-97d6-e80b882dc705",
   "metadata": {},
   "outputs": [
    {
     "name": "stdout",
     "output_type": "stream",
     "text": [
      "Searching for \"fox\" in \"The quick brown fox jumps over the lazy dog.\" ->\n",
      "Matched!\n",
      "Searching for \"dog\" in \"The quick brown fox jumps over the lazy dog.\" ->\n",
      "Matched!\n",
      "Searching for \"horse\" in \"The quick brown fox jumps over the lazy dog.\" ->\n",
      "Not Matched!\n"
     ]
    }
   ],
   "source": [
    "#Question 15\n",
    "import re\n",
    "pattern = [ 'fox', 'dog', 'horse' ]\n",
    "string='The quick brown fox jumps over the lazy dog.'\n",
    "for pattern in pattern:\n",
    "    print('Searching for \"%s\" in \"%s\" ->' % (pattern,string),)\n",
    "    if re.search(pattern,string):\n",
    "        print('Matched!')\n",
    "    else:\n",
    "        print('Not Matched!')"
   ]
  },
  {
   "cell_type": "code",
   "execution_count": 58,
   "id": "3fddd977-fe66-4735-9f66-06c07cac0743",
   "metadata": {},
   "outputs": [
    {
     "name": "stdout",
     "output_type": "stream",
     "text": [
      "Found \"fox\" in \"The quick brown fox jumps over the lazy dog.\" from 16 to 19 \n"
     ]
    }
   ],
   "source": [
    "#Question 16\n",
    "import re\n",
    "pattern='fox'\n",
    "string='The quick brown fox jumps over the lazy dog.'\n",
    "match=re.search(pattern,string)\n",
    "a= match.start()\n",
    "z= match.end()\n",
    "print('Found \"%s\" in \"%s\" from %d to %d ' % \\\n",
    "    (match.re.pattern, match.string, a,z))\n",
    "\t"
   ]
  },
  {
   "cell_type": "code",
   "execution_count": 59,
   "id": "43b6f1cf-311a-4c2c-a483-78df630338ae",
   "metadata": {},
   "outputs": [
    {
     "name": "stdout",
     "output_type": "stream",
     "text": [
      "Found \"exercises\"\n",
      "Found \"exercises\"\n",
      "Found \"exercises\"\n"
     ]
    }
   ],
   "source": [
    "#Question 17\n",
    "import re\n",
    "string='Python exercises, PHP exercises, C# exercises'\n",
    "pattern='exercises'\n",
    "for match in re.findall(pattern,string):\n",
    "    print('Found \"%s\"' % match)\n",
    "\t"
   ]
  },
  {
   "cell_type": "code",
   "execution_count": 60,
   "id": "8c5dce55-b830-477f-8f2c-97f21c8d0d45",
   "metadata": {},
   "outputs": [
    {
     "name": "stdout",
     "output_type": "stream",
     "text": [
      "Found \"exercises\" at 7:16\n",
      "Found \"exercises\" at 22:31\n",
      "Found \"exercises\" at 36:45\n"
     ]
    }
   ],
   "source": [
    "#Question 18\n",
    "import re\n",
    "text='Python exercises, PHP exercises, C# exercises' #I am using the same sample text as the previous question\n",
    "pattern='exercises'\n",
    "for match in re.finditer(pattern, text):\n",
    "    a=match.start()\n",
    "    z=match.end()\n",
    "    print('Found \"%s\" at %d:%d' % (text[a:z], a,z))\n",
    "\t"
   ]
  },
  {
   "cell_type": "code",
   "execution_count": 65,
   "id": "bb80310f-5fd5-41ae-9242-33e1272d0fcd",
   "metadata": {},
   "outputs": [
    {
     "name": "stdout",
     "output_type": "stream",
     "text": [
      "Date in YYYY-MM-DD format:  2002-11-02\n",
      "Same date in DD-MM-YYYY format:  02-11-2002\n"
     ]
    }
   ],
   "source": [
    "#Question 19\n",
    "import re\n",
    "def function(dt):\n",
    "        return re.sub(r'(\\d{4})-(\\d{1,2})-(\\d{1,2})', '\\\\3-\\\\2-\\\\1', dt)\n",
    "date = \"2002-11-02\" #I am using a random date of 2nd november 2002 as sample\n",
    "print(\"Date in YYYY-MM-DD format: \",date)\n",
    "print(\"Same date in DD-MM-YYYY format: \",function(date))\n"
   ]
  },
  {
   "cell_type": "code",
   "execution_count": 67,
   "id": "eb274842-9500-452f-a865-e7f5611807ce",
   "metadata": {},
   "outputs": [
    {
     "name": "stdout",
     "output_type": "stream",
     "text": [
      "['01.12', '0132.12', '2.31', '145.8', '3.01', '27.25', '0.25']\n"
     ]
    }
   ],
   "source": [
    "#Question 20\n",
    "import re\n",
    "def find_decimal_numbers(string):\n",
    "  pattern = re.compile(r'\\d+\\.\\d{1,2}')\n",
    "  decimal_numbers = re.findall(pattern, string)\n",
    "  return decimal_numbers\n",
    "Question= \"01.12 0132.123 2.31875 145.8 3.01 27.25 0.25\"\n",
    "Answer = find_decimal_numbers(Question)\n",
    "print(Answer)\n",
    "#The answer I got does not match the expected output given in the question paper because the answers for the second and third numbers (0132.123 and 2.31875) are not taken into account PLEASE CHECK THE QUESTION\n"
   ]
  },
  {
   "cell_type": "code",
   "execution_count": 69,
   "id": "b1cdaf6e-e2f7-48c4-923c-8980ae211181",
   "metadata": {},
   "outputs": [
    {
     "name": "stdout",
     "output_type": "stream",
     "text": [
      "1\n",
      "Index position: 11\n",
      "2\n",
      "Index position: 48\n"
     ]
    },
    {
     "name": "stderr",
     "output_type": "stream",
     "text": [
      "<>:4: SyntaxWarning: invalid escape sequence '\\d'\n",
      "<>:4: SyntaxWarning: invalid escape sequence '\\d'\n",
      "C:\\Users\\shashwath\\AppData\\Local\\Temp\\ipykernel_18640\\2293348365.py:4: SyntaxWarning: invalid escape sequence '\\d'\n",
      "  for m in re.finditer(\"\\d+\",string):\n"
     ]
    }
   ],
   "source": [
    "#Question 21\n",
    "import re\n",
    "string=\"I am using 1 random sentence. Here is my number 2 random sentence.\"\n",
    "for m in re.finditer(\"\\d+\",string):\n",
    "    print(m.group(0))\n",
    "    print(\"Index position:\", m.start())\n",
    "\t"
   ]
  },
  {
   "cell_type": "code",
   "execution_count": 71,
   "id": "d97a8410-54ed-4b65-90a3-f98906169791",
   "metadata": {},
   "outputs": [
    {
     "name": "stdout",
     "output_type": "stream",
     "text": [
      "950\n"
     ]
    }
   ],
   "source": [
    "#Question 22\n",
    "import re\n",
    "input_string = 'My marks in each semester are: 947, 896, 926, 524, 734, 950, 642'\n",
    "numbers= re.findall(r'\\d+', input_string)\n",
    "numbers1= [int(value) for value in numbers]\n",
    "Highest=max(numbers1)\n",
    "print(Highest)"
   ]
  },
  {
   "cell_type": "code",
   "execution_count": 73,
   "id": "cf753293-bfd9-43c0-a693-89733c1b39a2",
   "metadata": {},
   "outputs": [
    {
     "name": "stdout",
     "output_type": "stream",
     "text": [
      "Regular Expression Is An Important Topic In Python\n"
     ]
    }
   ],
   "source": [
    "#Question 23\n",
    "import re\n",
    "def func(text):\n",
    "  pattern = r'([A-Z][a-z]+)'\n",
    "  result = re.sub(pattern, r' \\1', text)\n",
    "  result = result.strip()\n",
    "  return result\n",
    "question=\"RegularExpressionIsAnImportantTopicInPython\"\n",
    "answer=insert_spaces(question)\n",
    "print(answer)"
   ]
  },
  {
   "cell_type": "code",
   "execution_count": 81,
   "id": "9b71cc7a-41ec-4072-9345-0e2278b8f3c6",
   "metadata": {},
   "outputs": [
    {
     "name": "stdout",
     "output_type": "stream",
     "text": [
      "Found a match!\n",
      "Found a match!\n",
      "Not matched!\n"
     ]
    }
   ],
   "source": [
    "#Question 24\n",
    "import re\n",
    "def func(string):\n",
    "        patterns = '[A-Z]+[a-z]+$'\n",
    "        if re.search(patterns, string):\n",
    "            return 'Found a match!'\n",
    "        else:\n",
    "            return('Not matched!')\n",
    "print(func(\"Match\"))\n",
    "print(func(\"notMatch\"))\n",
    "print(func(\"python\"))"
   ]
  },
  {
   "cell_type": "code",
   "execution_count": 83,
   "id": "45b44149-8ddb-405d-943c-905114cf7429",
   "metadata": {},
   "outputs": [
    {
     "name": "stdout",
     "output_type": "stream",
     "text": [
      "Hello hello world\n"
     ]
    }
   ],
   "source": [
    "#Question 25\n",
    "import re\n",
    "def remove_duplicates(sentence):\n",
    "  pattern = r'\\b(\\w+)(\\s+\\1\\b)+'\n",
    "  result = re.sub(pattern, r'\\1', sentence)\n",
    "  return result\n",
    "Question=\"Hello hello world world\"\n",
    "Answer=remove_duplicates(Question)\n",
    "print(Answer)"
   ]
  },
  {
   "cell_type": "code",
   "execution_count": 86,
   "id": "0f8b2555-7e54-42ff-81f9-beefecbb4ef0",
   "metadata": {},
   "outputs": [
    {
     "name": "stdin",
     "output_type": "stream",
     "text": [
      "string string\n"
     ]
    },
    {
     "name": "stdout",
     "output_type": "stream",
     "text": [
      "String ends with an alphanumeric character\n"
     ]
    }
   ],
   "source": [
    "#Question 26\n",
    "import re\n",
    "def func(ex):\n",
    "  question= r\"\\w$\"\n",
    "  match = re.search(question,ex)\n",
    "  if match:\n",
    "      return True\n",
    "  else:\n",
    "      return False\n",
    "question= input(\"string\")\n",
    "if func(question):\n",
    "  print(\"String ends with an alphanumeric character\")\n",
    "else:\n",
    "  print(\"String does not end with an alphanumeric character\")"
   ]
  },
  {
   "cell_type": "code",
   "execution_count": null,
   "id": "3a7aaa86-d1a0-46b0-a1f3-da48ef5809ee",
   "metadata": {},
   "outputs": [],
   "source": [
    "#Question 27\n"
   ]
  },
  {
   "cell_type": "code",
   "execution_count": null,
   "id": "dfb84da9-a417-41ef-b2d6-4115081a8234",
   "metadata": {},
   "outputs": [],
   "source": [
    "#Question 28"
   ]
  },
  {
   "cell_type": "code",
   "execution_count": null,
   "id": "de571309-1942-4a39-9d7a-838d6d58afeb",
   "metadata": {},
   "outputs": [],
   "source": [
    "#Question 29"
   ]
  },
  {
   "cell_type": "code",
   "execution_count": null,
   "id": "c70cb371-8658-44f5-b142-db3d8a9d1adf",
   "metadata": {},
   "outputs": [],
   "source": [
    "#Question 30"
   ]
  },
  {
   "cell_type": "code",
   "execution_count": null,
   "id": "1369a8c2-89ba-47cd-a4e6-59fee04b1781",
   "metadata": {},
   "outputs": [],
   "source": []
  }
 ],
 "metadata": {
  "kernelspec": {
   "display_name": "Python 3 (ipykernel)",
   "language": "python",
   "name": "python3"
  },
  "language_info": {
   "codemirror_mode": {
    "name": "ipython",
    "version": 3
   },
   "file_extension": ".py",
   "mimetype": "text/x-python",
   "name": "python",
   "nbconvert_exporter": "python",
   "pygments_lexer": "ipython3",
   "version": "3.12.5"
  }
 },
 "nbformat": 4,
 "nbformat_minor": 5
}
